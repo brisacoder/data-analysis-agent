{
 "cells": [
  {
   "cell_type": "code",
   "execution_count": 1,
   "id": "6fd6bb06",
   "metadata": {},
   "outputs": [],
   "source": [
    "import os\n",
    "from pathlib import Path\n",
    "import pandas as pd\n",
    "from dotenv import load_dotenv\n",
    "\n",
    "load_dotenv(override=True)\n",
    "\n",
    "questions = Path(os.getenv(\"QUESTIONS_FILE\"))\n",
    "answers = Path(os.getenv(\"ANSWERS_FILE\"))\n",
    "# df_json = pd.read_json(questions, lines=True).to_dict(orient='records')\n",
    "df_questions = pd.read_json(questions, lines=True)\n",
    "df_answers = pd.read_json(answers, lines=True)\n",
    "df_merged = df_answers.merge(df_questions, left_on=\"id\", right_on=\"id\", how='inner')"
   ]
  },
  {
   "cell_type": "code",
   "execution_count": 2,
   "id": "e6c1e787",
   "metadata": {},
   "outputs": [],
   "source": [
    "import io\n",
    "from dataframe_to_dict import parse_dataframe_info\n",
    "\n",
    "def df_info_to_json(df):\n",
    "    buffer = io.StringIO()\n",
    "    df.info(buf=buffer, show_counts=True)\n",
    "    df_json = parse_dataframe_info(buffer.getvalue())\n",
    "    return df_json    "
   ]
  },
  {
   "cell_type": "code",
   "execution_count": 3,
   "id": "a26720fa",
   "metadata": {},
   "outputs": [],
   "source": [
    "\n",
    "from planner import create_plan\n",
    "\n",
    "path_prefix = Path(\"data/InfiAgent-DABench/da-dev-tables/\")\n",
    "for index, row in df_merged.iterrows():\n",
    "    df = pd.read_csv(path_prefix / row['file_name'])\n",
    "    df_json = df_info_to_json(df)\n",
    "    plan = create_plan(row['question'], df_json)\n",
    "    df_merged.at[index, 'plan'] = plan.model_dump_json()\n"
   ]
  },
  {
   "cell_type": "code",
   "execution_count": 4,
   "id": "2f00629f",
   "metadata": {},
   "outputs": [],
   "source": [
    "df_merged.to_csv(\"data/merged_with_plans.csv\", index=False)"
   ]
  },
  {
   "cell_type": "code",
   "execution_count": 5,
   "id": "44221fef",
   "metadata": {},
   "outputs": [],
   "source": [
    "from coder import create_code\n",
    "\n",
    "path_prefix = Path(\"data/InfiAgent-DABench/da-dev-tables/\")\n",
    "for index, row in df_merged.iterrows():\n",
    "    df = pd.read_csv(path_prefix / row['file_name'])\n",
    "    df_json = df_info_to_json(df)    \n",
    "    code = create_code(row['plan'], row['question'], df_json)\n",
    "    df_merged.at[index, 'code'] = code.model_dump_json()\n",
    "\n"
   ]
  },
  {
   "cell_type": "code",
   "execution_count": 6,
   "id": "b43ad021",
   "metadata": {},
   "outputs": [],
   "source": [
    "df_merged.to_csv(\"data/merged_with_code.csv\", index=False)"
   ]
  },
  {
   "cell_type": "code",
   "execution_count": 12,
   "id": "15a19b9f",
   "metadata": {},
   "outputs": [
    {
     "name": "stdout",
     "output_type": "stream",
     "text": [
      "import pandas as pd\n",
      "import numpy as np\n",
      "from typing import Tuple\n",
      "\n",
      "def load_dataset(filepath: str = \"data.csv\") -> pd.DataFrame:\n",
      "    \"\"\"\n",
      "    Load the dataset from a CSV file into a Pandas DataFrame.\n",
      "    \"\"\"\n",
      "    df = pd.read_csv(filepath)\n",
      "    expected_columns = [\n",
      "        \"MedInc\", \"HouseAge\", \"AveRooms\", \"AveBedrms\", \"Population\",\n",
      "        \"AveOccup\", \"Latitude\", \"Longitude\", \"MedianHouseValue\"\n",
      "    ]\n",
      "    if not all(col in df.columns for col in expected_columns):\n",
      "        raise ValueError(\"CSV file missing one or more required columns.\")\n",
      "    return df\n",
      "\n",
      "def replace_missing_medinc_with_mean(df: pd.DataFrame) -> pd.DataFrame:\n",
      "    \"\"\"\n",
      "    Identify missing values (NaN) in 'MedInc' and replace them with the mean value of 'MedInc'.\n",
      "    \"\"\"\n",
      "    if 'MedInc' not in df.columns:\n",
      "        raise ValueError(\"Column 'MedInc' not found in DataFrame.\")\n",
      "    mean_medinc = df['MedInc'].mean()\n",
      "    df['MedInc'] = df['MedInc'].fillna(mean_medinc)\n",
      "    return df\n",
      "\n",
      "def standardize_aveoccup(df: pd.DataFrame) -> pd.DataFrame:\n",
      "    \"\"\"\n",
      "    Standardize the 'AveOccup' column using z-scores (mean=0, std=1).\n",
      "    \"\"\"\n",
      "    if 'AveOccup' not in df.columns:\n",
      "        raise ValueError(\"Column 'AveOccup' not found in DataFrame.\")\n",
      "    mean = df['AveOccup'].mean()\n",
      "    std = df['AveOccup'].std()\n",
      "    if std == 0:\n",
      "        raise ValueError(\"Standard deviation of 'AveOccup' is zero, cannot standardize.\")\n",
      "    df['AveOccup'] = (df['AveOccup'] - mean) / std\n",
      "    return df\n",
      "\n",
      "def create_rooms_per_person(df: pd.DataFrame) -> pd.DataFrame:\n",
      "    \"\"\"\n",
      "    Create a new column 'RoomsPerPerson' as AveRooms divided by Population.\n",
      "    \"\"\"\n",
      "    if 'AveRooms' not in df.columns or 'Population' not in df.columns:\n",
      "        raise ValueError(\"Columns 'AveRooms' and/or 'Population' not found in DataFrame.\")\n",
      "    if (df['Population'] == 0).any():\n",
      "        raise ValueError(\"Zero values found in 'Population', cannot divide by zero.\")\n",
      "    df['RoomsPerPerson'] = df['AveRooms'] / df['Population']\n",
      "    return df\n",
      "\n",
      "def calculate_pearson_corr(df: pd.DataFrame) -> float:\n",
      "    \"\"\"\n",
      "    Compute the Pearson correlation coefficient between 'MedianHouseValue' and 'RoomsPerPerson'.\n",
      "    \"\"\"\n",
      "    if 'MedianHouseValue' not in df.columns or 'RoomsPerPerson' not in df.columns:\n",
      "        raise ValueError(\"Columns 'MedianHouseValue' and/or 'RoomsPerPerson' not found in DataFrame.\")\n",
      "    corr = df['MedianHouseValue'].corr(df['RoomsPerPerson'])\n",
      "    return corr\n",
      "\n",
      "def calculate_mean_std_medianhousevalue(df: pd.DataFrame) -> Tuple[float, float]:\n",
      "    \"\"\"\n",
      "    Calculate and return the mean and standard deviation of the 'MedianHouseValue' column.\n",
      "    \"\"\"\n",
      "    if 'MedianHouseValue' not in df.columns:\n",
      "        raise ValueError(\"Column 'MedianHouseValue' not found in DataFrame.\")\n",
      "    mean = df['MedianHouseValue'].mean()\n",
      "    std = df['MedianHouseValue'].std()\n",
      "    return mean, std\n",
      "\n",
      "def main() -> None:\n",
      "    \"\"\"\n",
      "    Execute the data preprocessing and analysis pipeline as described in the plan.\n",
      "    \"\"\"\n",
      "    # Task 1: Load the dataset\n",
      "    df = load_dataset(\"data.csv\")\n",
      "\n",
      "    # Task 2: Replace missing values in MedInc with the mean\n",
      "    df = replace_missing_medinc_with_mean(df)\n",
      "\n",
      "    # Task 3: Standardize the AveOccup column using z-scores\n",
      "    df = standardize_aveoccup(df)\n",
      "\n",
      "    # Task 4: Create RoomsPerPerson feature\n",
      "    df = create_rooms_per_person(df)\n",
      "\n",
      "    # Task 5: Calculate Pearson correlation between MedianHouseValue and RoomsPerPerson\n",
      "    pearson_corr = calculate_pearson_corr(df)\n",
      "    print(f\"Pearson correlation coefficient between MedianHouseValue and RoomsPerPerson: {pearson_corr}\")\n",
      "\n",
      "    # Task 6: Calculate mean and standard deviation of MedianHouseValue from the original data\n",
      "    original_df = pd.read_csv(\"data.csv\")\n",
      "    mean_mhv, std_mhv = calculate_mean_std_medianhousevalue(original_df)\n",
      "    print(f\"Mean of MedianHouseValue: {mean_mhv}\")\n",
      "    print(f\"Standard deviation of MedianHouseValue: {std_mhv}\")\n",
      "\n",
      "if __name__ == \"__main__\":\n",
      "    main()\n",
      "\n"
     ]
    }
   ],
   "source": [
    "import json\n",
    "print(json.loads(df_merged.loc[14, 'code'])['code'])"
   ]
  },
  {
   "cell_type": "code",
   "execution_count": null,
   "id": "6a21da30",
   "metadata": {},
   "outputs": [
    {
     "name": "stdout",
     "output_type": "stream",
     "text": [
      "Pearson correlation coefficient between MedianHouseValue and RoomsPerPerson: 0.0382234007362979\n",
      "Mean of MedianHouseValue: 2.1225820930232557\n",
      "Standard deviation of MedianHouseValue: 1.2209690905546158\n"
     ]
    }
   ],
   "source": [
    "import pandas as pd\n",
    "import numpy as np\n",
    "from typing import Tuple\n",
    "\n",
    "def load_dataset(filepath: str = \"data.csv\") -> pd.DataFrame:\n",
    "    \"\"\"\n",
    "    Load the dataset from a CSV file into a Pandas DataFrame.\n",
    "    \"\"\"\n",
    "    df = pd.read_csv(filepath)\n",
    "    expected_columns = [\n",
    "        \"MedInc\", \"HouseAge\", \"AveRooms\", \"AveBedrms\", \"Population\",\n",
    "        \"AveOccup\", \"Latitude\", \"Longitude\", \"MedianHouseValue\"\n",
    "    ]\n",
    "    if not all(col in df.columns for col in expected_columns):\n",
    "        raise ValueError(\"CSV file missing one or more required columns.\")\n",
    "    return df\n",
    "\n",
    "def replace_missing_medinc_with_mean(df: pd.DataFrame) -> pd.DataFrame:\n",
    "    \"\"\"\n",
    "    Identify missing values (NaN) in 'MedInc' and replace them with the mean value of 'MedInc'.\n",
    "    \"\"\"\n",
    "    if 'MedInc' not in df.columns:\n",
    "        raise ValueError(\"Column 'MedInc' not found in DataFrame.\")\n",
    "    mean_medinc = df['MedInc'].mean()\n",
    "    df['MedInc'] = df['MedInc'].fillna(mean_medinc)\n",
    "    return df\n",
    "\n",
    "def standardize_aveoccup(df: pd.DataFrame) -> pd.DataFrame:\n",
    "    \"\"\"\n",
    "    Standardize the 'AveOccup' column using z-scores (mean=0, std=1).\n",
    "    \"\"\"\n",
    "    if 'AveOccup' not in df.columns:\n",
    "        raise ValueError(\"Column 'AveOccup' not found in DataFrame.\")\n",
    "    mean = df['AveOccup'].mean()\n",
    "    std = df['AveOccup'].std()\n",
    "    if std == 0:\n",
    "        raise ValueError(\"Standard deviation of 'AveOccup' is zero, cannot standardize.\")\n",
    "    df['AveOccup'] = (df['AveOccup'] - mean) / std\n",
    "    return df\n",
    "\n",
    "def create_rooms_per_person(df: pd.DataFrame) -> pd.DataFrame:\n",
    "    \"\"\"\n",
    "    Create a new column 'RoomsPerPerson' as AveRooms divided by Population.\n",
    "    \"\"\"\n",
    "    if 'AveRooms' not in df.columns or 'Population' not in df.columns:\n",
    "        raise ValueError(\"Columns 'AveRooms' and/or 'Population' not found in DataFrame.\")\n",
    "    if (df['Population'] == 0).any():\n",
    "        raise ValueError(\"Zero values found in 'Population', cannot divide by zero.\")\n",
    "    df['RoomsPerPerson'] = df['AveRooms'] / df['Population']\n",
    "    return df\n",
    "\n",
    "def calculate_pearson_corr(df: pd.DataFrame) -> float:\n",
    "    \"\"\"\n",
    "    Compute the Pearson correlation coefficient between 'MedianHouseValue' and 'RoomsPerPerson'.\n",
    "    \"\"\"\n",
    "    if 'MedianHouseValue' not in df.columns or 'RoomsPerPerson' not in df.columns:\n",
    "        raise ValueError(\"Columns 'MedianHouseValue' and/or 'RoomsPerPerson' not found in DataFrame.\")\n",
    "    corr = df['MedianHouseValue'].corr(df['RoomsPerPerson'])\n",
    "    return corr\n",
    "\n",
    "def calculate_mean_std_medianhousevalue(df: pd.DataFrame) -> Tuple[float, float]:\n",
    "    \"\"\"\n",
    "    Calculate and return the mean and standard deviation of the 'MedianHouseValue' column.\n",
    "    \"\"\"\n",
    "    if 'MedianHouseValue' not in df.columns:\n",
    "        raise ValueError(\"Column 'MedianHouseValue' not found in DataFrame.\")\n",
    "    mean = df['MedianHouseValue'].mean()\n",
    "    std = df['MedianHouseValue'].std()\n",
    "    return mean, std\n",
    "\n",
    "def main() -> None:\n",
    "    \"\"\"\n",
    "    Execute the data preprocessing and analysis pipeline as described in the plan.\n",
    "    \"\"\"\n",
    "    # Task 1: Load the dataset\n",
    "    file_path = \"my_test_01.csv\"\n",
    "    df = load_dataset(file_path)\n",
    "\n",
    "    # Task 2: Replace missing values in MedInc with the mean\n",
    "    df = replace_missing_medinc_with_mean(df)\n",
    "\n",
    "    # Task 3: Standardize the AveOccup column using z-scores\n",
    "    df = standardize_aveoccup(df)\n",
    "\n",
    "    # Task 4: Create RoomsPerPerson feature\n",
    "    df = create_rooms_per_person(df)\n",
    "\n",
    "    # Task 5: Calculate Pearson correlation between MedianHouseValue and RoomsPerPerson\n",
    "    pearson_corr = calculate_pearson_corr(df)\n",
    "    print(f\"Pearson correlation coefficient between MedianHouseValue and RoomsPerPerson: {pearson_corr}\")\n",
    "\n",
    "    # Task 6: Calculate mean and standard deviation of MedianHouseValue from the original data\n",
    "    original_df = pd.read_csv(file_path)\n",
    "    mean_mhv, std_mhv = calculate_mean_std_medianhousevalue(original_df)\n",
    "    print(f\"Mean of MedianHouseValue: {mean_mhv}\")\n",
    "    print(f\"Standard deviation of MedianHouseValue: {std_mhv}\")\n",
    "\n",
    "main()\n"
   ]
  },
  {
   "cell_type": "code",
   "execution_count": 14,
   "id": "bcd8d415",
   "metadata": {},
   "outputs": [
    {
     "data": {
      "text/plain": [
       "[['pearson_coefficient', '0.0382'], ['mean_value', '2.1226']]"
      ]
     },
     "execution_count": 14,
     "metadata": {},
     "output_type": "execute_result"
    }
   ],
   "source": [
    "df_merged.loc[14, 'common_answers']"
   ]
  },
  {
   "cell_type": "code",
   "execution_count": 15,
   "id": "6364a9ad",
   "metadata": {},
   "outputs": [
    {
     "data": {
      "text/plain": [
       "'my_test_01.csv'"
      ]
     },
     "execution_count": 15,
     "metadata": {},
     "output_type": "execute_result"
    }
   ],
   "source": [
    "df_merged.loc[14, 'file_name']"
   ]
  },
  {
   "cell_type": "code",
   "execution_count": null,
   "id": "e3ccb090",
   "metadata": {},
   "outputs": [],
   "source": []
  }
 ],
 "metadata": {
  "kernelspec": {
   "display_name": "data-analysis-agent",
   "language": "python",
   "name": "python3"
  },
  "language_info": {
   "codemirror_mode": {
    "name": "ipython",
    "version": 3
   },
   "file_extension": ".py",
   "mimetype": "text/x-python",
   "name": "python",
   "nbconvert_exporter": "python",
   "pygments_lexer": "ipython3",
   "version": "3.13.5"
  }
 },
 "nbformat": 4,
 "nbformat_minor": 5
}
