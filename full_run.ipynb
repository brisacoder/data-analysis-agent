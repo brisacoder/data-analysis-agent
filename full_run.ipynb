{
 "cells": [
  {
   "cell_type": "code",
   "execution_count": 21,
   "id": "daa7e5b1",
   "metadata": {},
   "outputs": [
    {
     "name": "stdout",
     "output_type": "stream",
     "text": [
      "Path from JSON: data/InfiAgent-DABench/da-dev-tables/abalone.csv\n",
      "Path object: data\\InfiAgent-DABench\\da-dev-tables\\abalone.csv\n",
      "Path exists: True\n",
      "With native separators: data\\\\InfiAgent-DABench\\\\da-dev-tables\\\\abalone.csv\n",
      "\\nKey points:\n",
      "✓ Windows accepts forward slashes\n",
      "✓ Path() works with forward slashes\n",
      "✓ No conversion needed when reading from JSON\n"
     ]
    }
   ],
   "source": [
    "# Windows handles forward slashes correctly in file paths\n",
    "import json\n",
    "from pathlib import Path\n",
    "\n",
    "# Simulate what happens when you read from JSON\n",
    "json_data = '{\"file_name\": \"data/InfiAgent-DABench/da-dev-tables/abalone.csv\"}'\n",
    "loaded = json.loads(json_data)\n",
    "file_path_from_json = loaded[\"file_name\"]\n",
    "\n",
    "print(f\"Path from JSON: {file_path_from_json}\")\n",
    "\n",
    "# Convert to Path object - works fine with forward slashes\n",
    "path_obj = Path(file_path_from_json)\n",
    "print(f\"Path object: {path_obj}\")\n",
    "print(f\"Path exists: {path_obj.exists()}\")\n",
    "\n",
    "# If you need native Windows separators, you can get them\n",
    "print(f\"With native separators: {path_obj.as_posix().replace('/', '\\\\\\\\')}\")\n",
    "\n",
    "print(\"\\\\nKey points:\")\n",
    "print(\"✓ Windows accepts forward slashes\")\n",
    "print(\"✓ Path() works with forward slashes\") \n",
    "print(\"✓ No conversion needed when reading from JSON\")"
   ]
  },
  {
   "cell_type": "code",
   "execution_count": 22,
   "id": "6fd6bb06",
   "metadata": {},
   "outputs": [],
   "source": [
    "import os\n",
    "from pathlib import Path\n",
    "import pandas as pd\n",
    "from dotenv import load_dotenv\n",
    "\n",
    "load_dotenv(override=True)\n",
    "\n",
    "questions = Path(os.getenv(\"QUESTIONS_FILE\"))\n",
    "answers = Path(os.getenv(\"ANSWERS_FILE\"))\n",
    "# df_json = pd.read_json(questions, lines=True).to_dict(orient='records')\n",
    "df_questions = pd.read_json(questions, lines=True)\n",
    "df_answers = pd.read_json(answers, lines=True)\n",
    "df_merged = df_answers.merge(df_questions, left_on=\"id\", right_on=\"id\", how='inner')"
   ]
  },
  {
   "cell_type": "code",
   "execution_count": 23,
   "id": "e6c1e787",
   "metadata": {},
   "outputs": [],
   "source": [
    "import io\n",
    "from dataframe_to_dict import parse_dataframe_info\n",
    "\n",
    "def df_info_to_json(df):\n",
    "    buffer = io.StringIO()\n",
    "    df.info(buf=buffer, show_counts=True)\n",
    "    df_json = parse_dataframe_info(buffer.getvalue())\n",
    "    return df_json    "
   ]
  },
  {
   "cell_type": "code",
   "execution_count": 24,
   "id": "a26720fa",
   "metadata": {},
   "outputs": [],
   "source": [
    "from planner import create_plan\n",
    "\n",
    "path_prefix = Path(\"data/InfiAgent-DABench/da-dev-tables/\")\n",
    "for index, row in df_merged.iterrows():\n",
    "    file_name = path_prefix / row['file_name']\n",
    "    df = pd.read_csv(file_name)\n",
    "    df_json = df_info_to_json(df)\n",
    "    plan = create_plan(row['question'], df_json, file_name.as_posix())\n",
    "    df_merged.at[index, 'plan'] = plan.model_dump_json()\n"
   ]
  },
  {
   "cell_type": "code",
   "execution_count": 25,
   "id": "2f00629f",
   "metadata": {},
   "outputs": [],
   "source": [
    "df_merged.to_csv(\"data/merged_with_plans.csv\", index=False)"
   ]
  },
  {
   "cell_type": "code",
   "execution_count": null,
   "id": "44221fef",
   "metadata": {},
   "outputs": [],
   "source": [
    "from coder import create_code\n",
    "\n",
    "path_prefix = Path(\"data/InfiAgent-DABench/da-dev-tables/\")\n",
    "for index, row in df_merged.iterrows():\n",
    "    file_name = path_prefix / row['file_name']\n",
    "    df = pd.read_csv(path_prefix / row['file_name'])\n",
    "    df_json = df_info_to_json(df)    \n",
    "    code = create_code(row['plan'], row['question'], df_json)\n",
    "    df_merged.at[index, 'code'] = code.model_dump_json()"
   ]
  },
  {
   "cell_type": "code",
   "execution_count": 7,
   "id": "b43ad021",
   "metadata": {},
   "outputs": [],
   "source": [
    "df_merged.to_csv(\"data/merged_with_code.csv\", index=False)"
   ]
  },
  {
   "cell_type": "code",
   "execution_count": 8,
   "id": "15a19b9f",
   "metadata": {},
   "outputs": [
    {
     "name": "stdout",
     "output_type": "stream",
     "text": [
      "import pandas as pd\n",
      "import numpy as np\n",
      "from typing import Tuple\n",
      "\n",
      "def load_dataset(filename: str = 'data.csv') -> pd.DataFrame:\n",
      "    \"\"\"\n",
      "    Read the dataset into a Pandas DataFrame from a CSV file.\n",
      "    \"\"\"\n",
      "    df = pd.read_csv(filename)\n",
      "    return df\n",
      "\n",
      "def replace_missing_medinc(df: pd.DataFrame) -> pd.DataFrame:\n",
      "    \"\"\"\n",
      "    Replace any missing values in the 'MedInc' column with the mean of the non-missing values.\n",
      "    \"\"\"\n",
      "    if 'MedInc' not in df.columns:\n",
      "        raise ValueError(\"Column 'MedInc' not found in DataFrame.\")\n",
      "    mean_medinc = df['MedInc'].mean()\n",
      "    df['MedInc'] = df['MedInc'].fillna(mean_medinc)\n",
      "    return df\n",
      "\n",
      "def standardize_aveoccup(df: pd.DataFrame) -> pd.DataFrame:\n",
      "    \"\"\"\n",
      "    Standardize the 'AveOccup' column using z-scores.\n",
      "    \"\"\"\n",
      "    if 'AveOccup' not in df.columns:\n",
      "        raise ValueError(\"Column 'AveOccup' not found in DataFrame.\")\n",
      "    mean_aveoccup = df['AveOccup'].mean()\n",
      "    std_aveoccup = df['AveOccup'].std()\n",
      "    if std_aveoccup == 0:\n",
      "        raise ValueError(\"Standard deviation of 'AveOccup' is zero, cannot standardize.\")\n",
      "    df['AveOccup'] = (df['AveOccup'] - mean_aveoccup) / std_aveoccup\n",
      "    return df\n",
      "\n",
      "def create_rooms_per_person(df: pd.DataFrame) -> pd.DataFrame:\n",
      "    \"\"\"\n",
      "    Create a new column 'RoomsPerPerson' by dividing 'AveRooms' by 'Population'.\n",
      "    \"\"\"\n",
      "    if 'AveRooms' not in df.columns or 'Population' not in df.columns:\n",
      "        raise ValueError(\"Columns 'AveRooms' and/or 'Population' not found in DataFrame.\")\n",
      "    if (df['Population'] == 0).any():\n",
      "        raise ValueError(\"Zero value(s) found in 'Population', cannot divide by zero.\")\n",
      "    df['RoomsPerPerson'] = df['AveRooms'] / df['Population']\n",
      "    return df\n",
      "\n",
      "def calculate_pearson_corr(df: pd.DataFrame) -> float:\n",
      "    \"\"\"\n",
      "    Calculate the Pearson correlation coefficient between 'MedianHouseValue' and 'RoomsPerPerson'.\n",
      "    \"\"\"\n",
      "    if 'MedianHouseValue' not in df.columns or 'RoomsPerPerson' not in df.columns:\n",
      "        raise ValueError(\"Columns 'MedianHouseValue' and/or 'RoomsPerPerson' not found in DataFrame.\")\n",
      "    col1 = df['MedianHouseValue']\n",
      "    col2 = df['RoomsPerPerson']\n",
      "    corr = col1.corr(col2)\n",
      "    return corr\n",
      "\n",
      "def mean_std_medianhousevalue(df: pd.DataFrame) -> Tuple[float, float]:\n",
      "    \"\"\"\n",
      "    Compute the mean and standard deviation of the 'MedianHouseValue' column.\n",
      "    \"\"\"\n",
      "    if 'MedianHouseValue' not in df.columns:\n",
      "        raise ValueError(\"Column 'MedianHouseValue' not found in DataFrame.\")\n",
      "    mean_val = df['MedianHouseValue'].mean()\n",
      "    std_val = df['MedianHouseValue'].std()\n",
      "    return mean_val, std_val\n",
      "\n",
      "def main() -> None:\n",
      "    df = load_dataset('data.csv')\n",
      "    df = replace_missing_medinc(df)\n",
      "    df = standardize_aveoccup(df)\n",
      "    df = create_rooms_per_person(df)\n",
      "    pearson_corr = calculate_pearson_corr(df)\n",
      "    mean_mhv, std_mhv = mean_std_medianhousevalue(df)\n",
      "    print(f\"Pearson correlation between MedianHouseValue and RoomsPerPerson: {pearson_corr}\")\n",
      "    print(f\"Mean of MedianHouseValue: {mean_mhv}\")\n",
      "    print(f\"Standard deviation of MedianHouseValue: {std_mhv}\")\n",
      "\n",
      "if __name__ == \"__main__\":\n",
      "    main()\n"
     ]
    }
   ],
   "source": [
    "import json\n",
    "print(json.loads(df_merged.loc[14, 'code'])['code'])"
   ]
  },
  {
   "cell_type": "code",
   "execution_count": null,
   "id": "6a21da30",
   "metadata": {},
   "outputs": [
    {
     "name": "stdout",
     "output_type": "stream",
     "text": [
      "Pearson correlation coefficient between MedianHouseValue and RoomsPerPerson: 0.0382234007362979\n",
      "Mean of MedianHouseValue: 2.1225820930232557\n",
      "Standard deviation of MedianHouseValue: 1.2209690905546158\n"
     ]
    }
   ],
   "source": [
    "import pandas as pd\n",
    "import numpy as np\n",
    "from typing import Tuple\n",
    "\n",
    "def load_dataset(filename: str = 'data.csv') -> pd.DataFrame:\n",
    "    \"\"\"\n",
    "    Read the dataset into a Pandas DataFrame from a CSV file.\n",
    "    \"\"\"\n",
    "    df = pd.read_csv(filename)\n",
    "    return df\n",
    "\n",
    "def replace_missing_medinc(df: pd.DataFrame) -> pd.DataFrame:\n",
    "    \"\"\"\n",
    "    Replace any missing values in the 'MedInc' column with the mean of the non-missing values.\n",
    "    \"\"\"\n",
    "    if 'MedInc' not in df.columns:\n",
    "        raise ValueError(\"Column 'MedInc' not found in DataFrame.\")\n",
    "    mean_medinc = df['MedInc'].mean()\n",
    "    df['MedInc'] = df['MedInc'].fillna(mean_medinc)\n",
    "    return df\n",
    "\n",
    "def standardize_aveoccup(df: pd.DataFrame) -> pd.DataFrame:\n",
    "    \"\"\"\n",
    "    Standardize the 'AveOccup' column using z-scores.\n",
    "    \"\"\"\n",
    "    if 'AveOccup' not in df.columns:\n",
    "        raise ValueError(\"Column 'AveOccup' not found in DataFrame.\")\n",
    "    mean_aveoccup = df['AveOccup'].mean()\n",
    "    std_aveoccup = df['AveOccup'].std()\n",
    "    if std_aveoccup == 0:\n",
    "        raise ValueError(\"Standard deviation of 'AveOccup' is zero, cannot standardize.\")\n",
    "    df['AveOccup'] = (df['AveOccup'] - mean_aveoccup) / std_aveoccup\n",
    "    return df\n",
    "\n",
    "def create_rooms_per_person(df: pd.DataFrame) -> pd.DataFrame:\n",
    "    \"\"\"\n",
    "    Create a new column 'RoomsPerPerson' by dividing 'AveRooms' by 'Population'.\n",
    "    \"\"\"\n",
    "    if 'AveRooms' not in df.columns or 'Population' not in df.columns:\n",
    "        raise ValueError(\"Columns 'AveRooms' and/or 'Population' not found in DataFrame.\")\n",
    "    if (df['Population'] == 0).any():\n",
    "        raise ValueError(\"Zero value(s) found in 'Population', cannot divide by zero.\")\n",
    "    df['RoomsPerPerson'] = df['AveRooms'] / df['Population']\n",
    "    return df\n",
    "\n",
    "def calculate_pearson_corr(df: pd.DataFrame) -> float:\n",
    "    \"\"\"\n",
    "    Calculate the Pearson correlation coefficient between 'MedianHouseValue' and 'RoomsPerPerson'.\n",
    "    \"\"\"\n",
    "    if 'MedianHouseValue' not in df.columns or 'RoomsPerPerson' not in df.columns:\n",
    "        raise ValueError(\"Columns 'MedianHouseValue' and/or 'RoomsPerPerson' not found in DataFrame.\")\n",
    "    col1 = df['MedianHouseValue']\n",
    "    col2 = df['RoomsPerPerson']\n",
    "    corr = col1.corr(col2)\n",
    "    return corr\n",
    "\n",
    "def mean_std_medianhousevalue(df: pd.DataFrame) -> Tuple[float, float]:\n",
    "    \"\"\"\n",
    "    Compute the mean and standard deviation of the 'MedianHouseValue' column.\n",
    "    \"\"\"\n",
    "    if 'MedianHouseValue' not in df.columns:\n",
    "        raise ValueError(\"Column 'MedianHouseValue' not found in DataFrame.\")\n",
    "    mean_val = df['MedianHouseValue'].mean()\n",
    "    std_val = df['MedianHouseValue'].std()\n",
    "    return mean_val, std_val\n",
    "\n",
    "def main() -> None:\n",
    "    df = load_dataset('my_test_01.csv')\n",
    "    df = replace_missing_medinc(df)\n",
    "    df = standardize_aveoccup(df)\n",
    "    df = create_rooms_per_person(df)\n",
    "    pearson_corr = calculate_pearson_corr(df)\n",
    "    mean_mhv, std_mhv = mean_std_medianhousevalue(df)\n",
    "    print(f\"Pearson correlation between MedianHouseValue and RoomsPerPerson: {pearson_corr}\")\n",
    "    print(f\"Mean of MedianHouseValue: {mean_mhv}\")\n",
    "    print(f\"Standard deviation of MedianHouseValue: {std_mhv}\")\n",
    "\n",
    "if __name__ == \"__main__\":\n",
    "    main()"
   ]
  },
  {
   "cell_type": "code",
   "execution_count": 14,
   "id": "bcd8d415",
   "metadata": {},
   "outputs": [
    {
     "data": {
      "text/plain": [
       "[['pearson_coefficient', '0.0382'], ['mean_value', '2.1226']]"
      ]
     },
     "execution_count": 14,
     "metadata": {},
     "output_type": "execute_result"
    }
   ],
   "source": [
    "df_merged.loc[14, 'common_answers']"
   ]
  },
  {
   "cell_type": "code",
   "execution_count": 15,
   "id": "6364a9ad",
   "metadata": {},
   "outputs": [
    {
     "data": {
      "text/plain": [
       "'my_test_01.csv'"
      ]
     },
     "execution_count": 15,
     "metadata": {},
     "output_type": "execute_result"
    }
   ],
   "source": [
    "df_merged.loc[14, 'file_name']"
   ]
  },
  {
   "cell_type": "code",
   "execution_count": null,
   "id": "e3ccb090",
   "metadata": {},
   "outputs": [],
   "source": []
  }
 ],
 "metadata": {
  "kernelspec": {
   "display_name": "data-analysis-agent",
   "language": "python",
   "name": "python3"
  },
  "language_info": {
   "codemirror_mode": {
    "name": "ipython",
    "version": 3
   },
   "file_extension": ".py",
   "mimetype": "text/x-python",
   "name": "python",
   "nbconvert_exporter": "python",
   "pygments_lexer": "ipython3",
   "version": "3.13.5"
  }
 },
 "nbformat": 4,
 "nbformat_minor": 5
}
