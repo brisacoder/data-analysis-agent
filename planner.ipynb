{
 "cells": [
  {
   "cell_type": "code",
   "execution_count": 37,
   "id": "35f11693",
   "metadata": {},
   "outputs": [],
   "source": [
    "import numpy as np\n",
    "import pandas as pd\n",
    "from matplotlib import pyplot as plt\n",
    "from dotenv import load_dotenv\n",
    "from langchain.chat_models import init_chat_model\n",
    "\n",
    "from langchain_core.messages import (\n",
    "    AIMessage,\n",
    "    AnyMessage,\n",
    "    HumanMessage,\n",
    "    RemoveMessage,\n",
    "    SystemMessage,\n",
    "    ToolMessage,\n",
    ")"
   ]
  },
  {
   "cell_type": "code",
   "execution_count": 48,
   "id": "4669bb95",
   "metadata": {},
   "outputs": [
    {
     "data": {
      "text/plain": [
       "True"
      ]
     },
     "execution_count": 48,
     "metadata": {},
     "output_type": "execute_result"
    }
   ],
   "source": [
    "load_dotenv(override=True)"
   ]
  },
  {
   "cell_type": "code",
   "execution_count": null,
   "id": "2ebb4b32",
   "metadata": {},
   "outputs": [],
   "source": [
    "import io\n",
    "import os\n",
    "from dataframe_to_dict import parse_dataframe_info_to_dict\n",
    "\n",
    "df = pd.read_csv(os.getenv(\"DATA_FILE\"))\n",
    "buffer = io.StringIO()\n",
    "df.info(buf=buffer, show_counts=True)\n",
    "df_json = parse_dataframe_info_to_dict(buffer.getvalue())"
   ]
  },
  {
   "cell_type": "code",
   "execution_count": null,
   "id": "3793c30b",
   "metadata": {},
   "outputs": [],
   "source": [
    "planner_system_prompt = \"\"\"\n",
    "You are the Planner Agent for a Python Data Science and Machine Learning coding assistant. \n",
    "Your job is to create a structured coding plan to ensure no part of the user request is overlooked. \n",
    "\n",
    "- You do not write code. \n",
    "- You only produce a plan for the Coding Agent to implement.\n",
    "- Each plan must cover every part of the user request as discrete tasks.\n",
    "- Tasks should be sequential and unambiguous.\n",
    "- If something in the request is unclear, do NOT stop to ask the user.\n",
    "    Instead, state the reasonable assumption(s) you made so the Coding Agent can proceed.\n",
    "- Include input requirements and expected outputs for each task if applicable.\n",
    "- Your output should be in a structured format that is easy for a Coding Agent to follow.\n",
    "\n",
    "Do not skip any part of the user’s request.\n",
    "Do not make assumptions that are not explicitly stated.\n",
    "\"\"\""
   ]
  },
  {
   "cell_type": "code",
   "execution_count": null,
   "id": "22815773",
   "metadata": {},
   "outputs": [],
   "source": [
    "from pydantic import BaseModel, Field\n",
    "from typing import List\n",
    "\n",
    "class Task(BaseModel):\n",
    "    task_name: str = Field(description=\"Short description of the coding task.\")\n",
    "    details: str = Field(description=\"Step-by-step description of what must be done, including any transformations or conditions.\")\n",
    "    dependencies: str = Field(description=\"Data or previous tasks this step depends on.\")\n",
    "    output: str = Field(description=\"What this task should produce.\")\n",
    "    assumptions: str = Field(description=\"Any assumptions made to proceed with the task, especially if the user request was unclear.\")\n",
    "\n",
    "class Plan(BaseModel):\n",
    "    task_list : List[Task]"
   ]
  },
  {
   "cell_type": "code",
   "execution_count": 43,
   "id": "49a32a39",
   "metadata": {},
   "outputs": [],
   "source": [
    "system_message = SystemMessage(\n",
    "    content=planner_system_prompt,\n",
    ")\n",
    "\n",
    "df_structure = \"DataFrame Structure:\\n\" + json.dumps(df_json, indent=2)\n",
    "\n",
    "human_message = HumanMessage(\n",
    "    content=\"What is the average altitude I drive at? Fill missing altitude values with mean. \" \\\n",
    "    \"Calculate the mean altitude in meters, rounded to 2 decimal places.\" \\\n",
    "    \"Assume the dataframe has been loaded and is available as `df`.\" \n",
    "      + df_structure)\n",
    "    \n",
    "messages = [system_message, human_message]"
   ]
  },
  {
   "cell_type": "code",
   "execution_count": 44,
   "id": "f7091ce9",
   "metadata": {},
   "outputs": [],
   "source": [
    "llm = init_chat_model(\"openai:gpt-4.1\", temperature=0.7, max_retries=3, output_version=\"responses/v1\")\n",
    "structured_llm = llm.with_structured_output(schema=Plan)\n",
    "resp = structured_llm.invoke(messages)"
   ]
  },
  {
   "cell_type": "code",
   "execution_count": 45,
   "id": "e1336079",
   "metadata": {},
   "outputs": [],
   "source": [
    "with open(\"planner_output.json\", \"w\") as f:\n",
    "    json.dump(resp.model_dump(), f, indent=2)  # Save the structured response to a file"
   ]
  }
 ],
 "metadata": {
  "kernelspec": {
   "display_name": "data-analysis-agent",
   "language": "python",
   "name": "python3"
  },
  "language_info": {
   "codemirror_mode": {
    "name": "ipython",
    "version": 3
   },
   "file_extension": ".py",
   "mimetype": "text/x-python",
   "name": "python",
   "nbconvert_exporter": "python",
   "pygments_lexer": "ipython3",
   "version": "3.13.5"
  }
 },
 "nbformat": 4,
 "nbformat_minor": 5
}
