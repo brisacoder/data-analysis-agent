{
 "cells": [
  {
   "cell_type": "code",
   "execution_count": 1,
   "id": "f42eae49",
   "metadata": {},
   "outputs": [],
   "source": [
    "import numpy as np\n",
    "import matplotlib.pyplot as plt"
   ]
  },
  {
   "cell_type": "code",
   "execution_count": null,
   "id": "78476dd0",
   "metadata": {},
   "outputs": [],
   "source": [
    "from langchain_core.messages import (\n",
    "    AIMessage,\n",
    "    AnyMessage,\n",
    "    HumanMessage,\n",
    "    RemoveMessage,\n",
    "    SystemMessage,\n",
    "    ToolMessage,\n",
    ")"
   ]
  },
  {
   "cell_type": "code",
   "execution_count": null,
   "id": "6df2a0fe",
   "metadata": {},
   "outputs": [],
   "source": [
    "from dotenv import load_dotenv\n",
    "from langchain.chat_models import init_chat_model\n",
    "\n",
    "load_dotenv(override=True)\n",
    "llm = init_chat_model(\"openai:gpt-4.1\", temperature=0.7, max_retries=3, output_version=\"responses/v1\")"
   ]
  },
  {
   "cell_type": "code",
   "execution_count": 3,
   "id": "7e28a35f",
   "metadata": {},
   "outputs": [],
   "source": [
    "system_prompt = \"\"\"\n",
    "\n",
    "You are an expert on Python Data Science and Machine Learning code generation. Here are the rules \n",
    "you must follow when generating code:\n",
    "\n",
    "- Code should be Python3 unless stated otherwise. \n",
    "- Only use Numpy, Pandas, Scikit-Learn and Pytorch\n",
    "- Avoid using third-party, when in doubt, ask. \n",
    "- No code snippets\n",
    "- Code should be complete and fully runnable\n",
    "- Code should be PEP8 compliant\n",
    "- Code, classes, function and methods should have complete Docstrings.\n",
    "- Beautiful is better than ugly.\n",
    "- Explicit is better than implicit.\n",
    "- Simple is better than complex.\n",
    "- Readability counts.\n",
    "- In the face of ambiguity, refuse the temptation to guess.\n",
    "- If the implementation is hard to explain, it's a bad idea.\n",
    "- If the implementation is easy to explain, it may be a good idea. \n",
    "\"\"\""
   ]
  },
  {
   "cell_type": "code",
   "execution_count": null,
   "id": "71662078",
   "metadata": {},
   "outputs": [],
   "source": [
    "tools = (\n",
    "    [\n",
    "        {\"type\": \"code_interpreter\", \"container\": {\"type\": \"auto\"}},\n",
    "        {\"type\": \"web_search_preview\"},\n",
    "    ],\n",
    ")"
   ]
  },
  {
   "cell_type": "code",
   "execution_count": null,
   "id": "336fe2a5",
   "metadata": {},
   "outputs": [],
   "source": [
    "llm.invoke(\"...\", tools=tools, system_message=SystemMessage(content=system_prompt))"
   ]
  }
 ],
 "metadata": {
  "kernelspec": {
   "display_name": "data-analysis-agent",
   "language": "python",
   "name": "python3"
  },
  "language_info": {
   "codemirror_mode": {
    "name": "ipython",
    "version": 3
   },
   "file_extension": ".py",
   "mimetype": "text/x-python",
   "name": "python",
   "nbconvert_exporter": "python",
   "pygments_lexer": "ipython3",
   "version": "3.13.5"
  }
 },
 "nbformat": 4,
 "nbformat_minor": 5
}
