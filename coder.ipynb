{
 "cells": [
  {
   "cell_type": "code",
   "execution_count": 69,
   "id": "f42eae49",
   "metadata": {},
   "outputs": [],
   "source": [
    "import json\n",
    "import numpy as np\n",
    "import pandas as pd\n",
    "from matplotlib import pyplot as plt\n",
    "from dotenv import load_dotenv\n",
    "from langchain.chat_models import init_chat_model\n",
    "\n",
    "from langchain_core.messages import (\n",
    "    AIMessage,\n",
    "    AnyMessage,\n",
    "    HumanMessage,\n",
    "    RemoveMessage,\n",
    "    SystemMessage,\n",
    "    ToolMessage,\n",
    ")"
   ]
  },
  {
   "cell_type": "code",
   "execution_count": 70,
   "id": "56369199",
   "metadata": {},
   "outputs": [
    {
     "data": {
      "text/plain": [
       "True"
      ]
     },
     "execution_count": 70,
     "metadata": {},
     "output_type": "execute_result"
    }
   ],
   "source": [
    "load_dotenv(override=True)"
   ]
  },
  {
   "cell_type": "code",
   "execution_count": 71,
   "id": "7e28a35f",
   "metadata": {},
   "outputs": [],
   "source": [
    "coder_system_prompt = \"\"\"\n",
    "You are the Coding Agent in a two-stage pipeline (Planner ➜ Coder).\n",
    "\n",
    "INPUT\n",
    "------\n",
    "You will receive:\n",
    "1. A “Coding Plan” produced by the Planner Agent.\n",
    "   • It is an ordered list of numbered tasks.  \n",
    "   • Each task contains: Task Name, Details, Dependencies, Output.\n",
    "2. The original user request (for reference only).\n",
    "3. The structure of the DataFrame to be used in the tasks. This is the output of Pandas' `df.info()` method\n",
    "\n",
    "OBJECTIVE\n",
    "---------\n",
    "Write a **single, fully-runnable Python 3 script** that accomplishes *all* tasks in the Coding Plan, in order, without omission.\n",
    "\n",
    "STRICT RULES\n",
    "------------\n",
    "- **Return only code** – no prose, comments outside the script, or explanations.\n",
    "- The script must be PEP 8 compliant, self-contained, and ready to run.\n",
    "- Allowed libraries: Python standard library, NumPy, Pandas, Matplotlib, Scikit-Learn, PyTorch.\n",
    "- If a task requires plotting, save figures to files (do not display).\n",
    "- Insert clear inline comments and complete docstrings for every function, class, or complex section.\n",
    "- If the plan specifies an output file name (e.g., “top_10_customers.png”), save exactly that name.\n",
    "- Respect all user constraints from the original request.\n",
    "- **Never ignore or reorder tasks** unless an explicit dependency forces you to combine steps.\n",
    "- If the plan references data that is undefined (e.g., missing column names), raise a clear\n",
    "  `ValueError` in the code rather than guessing.\n",
    "- If any task is impossible with the permitted libraries, stop and raise\n",
    "  `NotImplementedError` inside the script, citing the task name.\n",
    "\n",
    "IMPLEMENTATION GUIDELINES\n",
    "-------------------------\n",
    "- Begin with all necessary imports.\n",
    "- Encapsulate each task in a well-named function whose docstring mirrors the task description.\n",
    "- Provide a `main()` function that calls task-functions in the correct order and writes/prints\n",
    "  the final results as specified.\n",
    "- Use type hints where helpful for readability.\n",
    "- Place the customary `if __name__ == \"__main__\": main()` guard at the end.\n",
    "\n",
    "FAIL-SAFE\n",
    "---------\n",
    "If you detect that the Coding Plan itself is ambiguous or missing critical information,\n",
    "raise a `ValueError` at the top of the script explaining which task needs clarification.\n",
    "\n",
    "OUTPUT FORMAT\n",
    "-------------\n",
    "Return the complete Python script **and nothing else**.\n",
    "\n",
    "\"\"\""
   ]
  },
  {
   "cell_type": "code",
   "execution_count": 72,
   "id": "71662078",
   "metadata": {},
   "outputs": [],
   "source": [
    "tools = (\n",
    "    [\n",
    "        {\"type\": \"code_interpreter\", \"container\": {\"type\": \"auto\"}},\n",
    "        {\"type\": \"web_search_preview\"},\n",
    "    ],\n",
    ")"
   ]
  },
  {
   "cell_type": "code",
   "execution_count": 73,
   "id": "3e3ae83e",
   "metadata": {},
   "outputs": [],
   "source": [
    "import io\n",
    "import os\n",
    "from dataframe_to_dict import parse_dataframe_info_to_dict\n",
    "\n",
    "df = pd.read_csv(os.getenv(\"PROCESSED_DATA_FILE\"))\n",
    "buffer = io.StringIO()\n",
    "df.info(buf=buffer, show_counts=True)\n",
    "df_json = parse_dataframe_info_to_dict(buffer.getvalue())\n"
   ]
  },
  {
   "cell_type": "code",
   "execution_count": 74,
   "id": "cc1180dc",
   "metadata": {},
   "outputs": [],
   "source": [
    "plan = \"\"\n",
    "with open(\"planner_output.json\", \"r\") as f:\n",
    "    plan = f.read()  # Save the parsed DataFrame info to a file"
   ]
  },
  {
   "cell_type": "code",
   "execution_count": 75,
   "id": "7647da07",
   "metadata": {},
   "outputs": [],
   "source": [
    "system_message = SystemMessage(\n",
    "    content=coder_system_prompt,\n",
    ")\n",
    "\n",
    "df_structure = \"DataFrame Structure:\\n\" + json.dumps(df_json, indent=2)\n",
    "\n",
    "plan = \"Plan: \"\n",
    "with open(\"planner_output.json\", \"r\") as f:\n",
    "    plan += f.read()\n",
    "\n",
    "original_request = (\"Which drivers achieve the best energy efficiency based on average reference consumption? \"\n",
    "    \"Fill missing values with mean. Return top 3 most efficient drivers. \"\n",
    "    \"Expect list of driver names else [].\" )\n",
    "\n",
    "human_message = HumanMessage(\n",
    "    content=plan + \"\\n\\n\"\n",
    "    + \"Human Request:\\n\" + original_request + \"\\n\\n\"\n",
    "    + df_structure)\n",
    "    \n",
    "messages = [system_message, human_message]"
   ]
  },
  {
   "cell_type": "code",
   "execution_count": 76,
   "id": "aa4807da",
   "metadata": {},
   "outputs": [],
   "source": [
    "from pydantic import BaseModel, Field\n",
    "\n",
    "class CodeResponse(BaseModel):\n",
    "    code: str = Field(description=\"The Python code to execute the task.\")\n"
   ]
  },
  {
   "cell_type": "code",
   "execution_count": 77,
   "id": "92254f8e",
   "metadata": {},
   "outputs": [],
   "source": [
    "llm = init_chat_model(\"openai:gpt-4.1\", temperature=0.7, max_retries=3, output_version=\"responses/v1\")\n",
    "structured_llm = llm.with_structured_output(schema=CodeResponse)"
   ]
  },
  {
   "cell_type": "code",
   "execution_count": 78,
   "id": "336fe2a5",
   "metadata": {},
   "outputs": [],
   "source": [
    "resp = structured_llm.invoke(messages)"
   ]
  },
  {
   "cell_type": "code",
   "execution_count": 79,
   "id": "d64a9567",
   "metadata": {},
   "outputs": [
    {
     "name": "stdout",
     "output_type": "stream",
     "text": [
      "import pandas as pd\n",
      "import numpy as np\n",
      "from typing import List\n",
      "\n",
      "def load_data_from_csv(filepath: str = 'data.csv') -> pd.DataFrame:\n",
      "    \"\"\"\n",
      "    Read the 'data.csv' file into a pandas DataFrame.\n",
      "    \"\"\"\n",
      "    try:\n",
      "        df = pd.read_csv(filepath)\n",
      "    except FileNotFoundError:\n",
      "        raise ValueError(\"The file 'data.csv' does not exist in the working directory.\")\n",
      "    return df\n",
      "\n",
      "def fill_missing_with_column_means(df: pd.DataFrame) -> pd.DataFrame:\n",
      "    \"\"\"\n",
      "    For all columns, fill missing (NaN) values with the mean of that column. Only apply to numeric columns.\n",
      "    \"\"\"\n",
      "    numeric_cols = df.select_dtypes(include=[np.number]).columns\n",
      "    df[numeric_cols] = df[numeric_cols].apply(lambda col: col.fillna(col.mean()))\n",
      "    return df\n",
      "\n",
      "def compute_avg_ref_consumption_per_driver(df: pd.DataFrame) -> pd.DataFrame:\n",
      "    \"\"\"\n",
      "    Group the DataFrame by the 'driver' column and calculate the mean of the 'ref_consumption' column for each driver.\n",
      "    \"\"\"\n",
      "    if 'driver' not in df.columns or 'ref_consumption' not in df.columns:\n",
      "        raise ValueError(\"Missing required columns: 'driver' or 'ref_consumption'.\")\n",
      "    avg_consumption = df.groupby('driver', as_index=False)['ref_consumption'].mean()\n",
      "    return avg_consumption\n",
      "\n",
      "def identify_top3_most_efficient_drivers(avg_consumption: pd.DataFrame) -> List[str]:\n",
      "    \"\"\"\n",
      "    Sort the drivers by their average 'ref_consumption' in ascending order and select the top 3 drivers.\n",
      "    \"\"\"\n",
      "    if 'driver' not in avg_consumption.columns or 'ref_consumption' not in avg_consumption.columns:\n",
      "        raise ValueError(\"Missing required columns in average consumption DataFrame.\")\n",
      "    sorted_df = avg_consumption.sort_values(by='ref_consumption', ascending=True)\n",
      "    top3 = sorted_df['driver'].head(3).tolist()\n",
      "    return top3\n",
      "\n",
      "def return_result_as_driver_names(top3: List[str]) -> List[str]:\n",
      "    \"\"\"\n",
      "    Prepare and return the list of the top 3 most efficient driver names. If none, return [].\n",
      "    \"\"\"\n",
      "    if not isinstance(top3, list):\n",
      "        raise ValueError(\"Input to return_result_as_driver_names must be a list.\")\n",
      "    return top3\n",
      "\n",
      "def main():\n",
      "    df = load_data_from_csv('data.csv')\n",
      "    df = fill_missing_with_column_means(df)\n",
      "    avg_consumption = compute_avg_ref_consumption_per_driver(df)\n",
      "    top3 = identify_top3_most_efficient_drivers(avg_consumption)\n",
      "    result = return_result_as_driver_names(top3)\n",
      "    print(result)\n",
      "\n",
      "if __name__ == \"__main__\":\n",
      "    main()\n",
      "\n"
     ]
    }
   ],
   "source": [
    "print(resp.code)"
   ]
  },
  {
   "cell_type": "code",
   "execution_count": 80,
   "id": "2eb1d2d2",
   "metadata": {},
   "outputs": [
    {
     "name": "stdout",
     "output_type": "stream",
     "text": [
      "['d1', 'd2', 'd3']\n"
     ]
    }
   ],
   "source": [
    "import pandas as pd\n",
    "import numpy as np\n",
    "from typing import List\n",
    "\n",
    "def load_data_from_csv(filepath: str = 'data.csv') -> pd.DataFrame:\n",
    "    \"\"\"\n",
    "    Read the 'data.csv' file into a pandas DataFrame.\n",
    "    \"\"\"\n",
    "    try:\n",
    "        df = pd.read_csv(filepath)\n",
    "    except FileNotFoundError:\n",
    "        raise ValueError(\"The file 'data.csv' does not exist in the working directory.\")\n",
    "    return df\n",
    "\n",
    "def fill_missing_with_column_means(df: pd.DataFrame) -> pd.DataFrame:\n",
    "    \"\"\"\n",
    "    For all columns, fill missing (NaN) values with the mean of that column. Only apply to numeric columns.\n",
    "    \"\"\"\n",
    "    numeric_cols = df.select_dtypes(include=[np.number]).columns\n",
    "    df[numeric_cols] = df[numeric_cols].apply(lambda col: col.fillna(col.mean()))\n",
    "    return df\n",
    "\n",
    "def compute_avg_ref_consumption_per_driver(df: pd.DataFrame) -> pd.DataFrame:\n",
    "    \"\"\"\n",
    "    Group the DataFrame by the 'driver' column and calculate the mean of the 'ref_consumption' column for each driver.\n",
    "    \"\"\"\n",
    "    if 'driver' not in df.columns or 'ref_consumption' not in df.columns:\n",
    "        raise ValueError(\"Missing required columns: 'driver' or 'ref_consumption'.\")\n",
    "    avg_consumption = df.groupby('driver', as_index=False)['ref_consumption'].mean()\n",
    "    return avg_consumption\n",
    "\n",
    "def identify_top3_most_efficient_drivers(avg_consumption: pd.DataFrame) -> List[str]:\n",
    "    \"\"\"\n",
    "    Sort the drivers by their average 'ref_consumption' in ascending order and select the top 3 drivers.\n",
    "    \"\"\"\n",
    "    if 'driver' not in avg_consumption.columns or 'ref_consumption' not in avg_consumption.columns:\n",
    "        raise ValueError(\"Missing required columns in average consumption DataFrame.\")\n",
    "    sorted_df = avg_consumption.sort_values(by='ref_consumption', ascending=True)\n",
    "    top3 = sorted_df['driver'].head(3).tolist()\n",
    "    return top3\n",
    "\n",
    "def return_result_as_driver_names(top3: List[str]) -> List[str]:\n",
    "    \"\"\"\n",
    "    Prepare and return the list of the top 3 most efficient driver names. If none, return [].\n",
    "    \"\"\"\n",
    "    if not isinstance(top3, list):\n",
    "        raise ValueError(\"Input to return_result_as_driver_names must be a list.\")\n",
    "    return top3\n",
    "\n",
    "def main():\n",
    "    df = load_data_from_csv('DEVRT-DACIA-SPRING_processed.csv')\n",
    "    df = fill_missing_with_column_means(df)\n",
    "    avg_consumption = compute_avg_ref_consumption_per_driver(df)\n",
    "    top3 = identify_top3_most_efficient_drivers(avg_consumption)\n",
    "    result = return_result_as_driver_names(top3)\n",
    "    print(result)\n",
    "\n",
    "\n",
    "main()\n"
   ]
  },
  {
   "cell_type": "code",
   "execution_count": 90,
   "id": "423e4987",
   "metadata": {},
   "outputs": [
    {
     "data": {
      "image/png": "[encoded data removed]",
      "text/plain": [
       "<Figure size 1000x600 with 1 Axes>"
      ]
     },
     "metadata": {},
     "output_type": "display_data"
    }
   ],
   "source": [
    "import os\n",
    "import httpx\n",
    "import pandas as pd\n",
    "import matplotlib\n",
    "from matplotlib import pyplot as plt\n",
    "\n",
    "url = \"https://raw.githubusercontent.com/Walendziak1912/Simpson-DataSets/master/simpsons_episodes.csv\"\n",
    "\n",
    "# Use httpx (requests won't work in Pyodide)\n",
    "response = httpx.get(url)\n",
    "response.raise_for_status()\n",
    "\n",
    "# Save to file\n",
    "with open(\"simpsons.csv\", \"w\", encoding=\"utf-8\") as f:\n",
    "    f.write(response.text)\n",
    "\n",
    "df = pd.read_csv(r'simpsons.csv')\n",
    "# Drop rows with missing US viewers\n",
    "df_clean = df.dropna(subset=['us_viewers_in_millions'])\n",
    "\n",
    "# Get top 10 episodes by US viewers\n",
    "top_10 = df_clean.nlargest(10, 'us_viewers_in_millions')\n",
    "\n",
    "# Sort for better plotting (highest at top)\n",
    "top_10_sorted = top_10.sort_values('us_viewers_in_millions', ascending=True)\n",
    "\n",
    "# Plot\n",
    "plt.figure(figsize=(10, 6))\n",
    "plt.barh(top_10_sorted['title'], top_10_sorted['us_viewers_in_millions'], color='steelblue')\n",
    "plt.xlabel('US Viewers (Millions)')\n",
    "plt.title('Top 10 Episodes by US Viewership')\n",
    "plt.tight_layout()\n",
    "plt.savefig('top_10_us_viewers.png')"
   ]
  }
 ],
 "metadata": {
  "kernelspec": {
   "display_name": "data-analysis-agent",
   "language": "python",
   "name": "python3"
  },
  "language_info": {
   "codemirror_mode": {
    "name": "ipython",
    "version": 3
   },
   "file_extension": ".py",
   "mimetype": "text/x-python",
   "name": "python",
   "nbconvert_exporter": "python",
   "pygments_lexer": "ipython3",
   "version": "3.13.5"
  }
 },
 "nbformat": 4,
 "nbformat_minor": 5
}
