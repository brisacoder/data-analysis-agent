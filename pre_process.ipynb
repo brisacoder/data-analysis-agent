{
 "cells": [
  {
   "cell_type": "code",
   "execution_count": 1,
   "id": "385cdd17",
   "metadata": {},
   "outputs": [],
   "source": [
    "import os\n",
    "from pathlib import Path\n",
    "import pandas as pd\n",
    "from point_geom import add_lon_lat_columns\n",
    "\n",
    "path = Path(os.getenv(\"DATA_FILE\"))\n",
    "df = pd.read_csv(os.getenv(\"DATA_FILE\"))\n",
    "df_lat_long = add_lon_lat_columns(df)\n",
    "\n"
   ]
  },
  {
   "cell_type": "code",
   "execution_count": null,
   "id": "575e32a3",
   "metadata": {},
   "outputs": [],
   "source": [
    "from dataframe_time import add_start_end_timedelta, add_start_end_seconds\n",
    "\n",
    "df_lat_long = add_start_end_timedelta(df_lat_long, \"start_timestamp\", \"end_timestamp\")\n",
    "df_lat_long = add_start_end_seconds(df_lat_long, \"start_timestamp\", \"end_timestamp\")"
   ]
  },
  {
   "cell_type": "code",
   "execution_count": 5,
   "id": "25deb469",
   "metadata": {},
   "outputs": [],
   "source": [
    "df_lat_long.to_csv(path.stem + \"_processed.csv\")"
   ]
  },
  {
   "cell_type": "code",
   "execution_count": 6,
   "id": "c753bf4d",
   "metadata": {},
   "outputs": [
    {
     "name": "stdout",
     "output_type": "stream",
     "text": [
      "<class 'pandas.core.frame.DataFrame'>\n",
      "RangeIndex: 8423 entries, 0 to 8422\n",
      "Data columns (total 45 columns):\n",
      " #   Column                          Non-Null Count  Dtype          \n",
      "---  ------                          --------------  -----          \n",
      " 0   soc                             8423 non-null   int64          \n",
      " 1   soh                             8423 non-null   float64        \n",
      " 2   route_id                        8423 non-null   int64          \n",
      " 3   longitude                       8423 non-null   float64        \n",
      " 4   latitude                        8423 non-null   float64        \n",
      " 5   altitude                        8423 non-null   float64        \n",
      " 6   timestamp_gps_utc               8423 non-null   object         \n",
      " 7   car_id                          8423 non-null   int64          \n",
      " 8   time_diff                       8423 non-null   float64        \n",
      " 9   point_geom                      8423 non-null   object         \n",
      " 10  route_code                      8423 non-null   object         \n",
      " 11  driver                          8423 non-null   object         \n",
      " 12  start_timestamp                 8423 non-null   object         \n",
      " 13  end_timestamp                   8423 non-null   object         \n",
      " 14  car_code                        8423 non-null   object         \n",
      " 15  car_description                 8423 non-null   object         \n",
      " 16  capacity                        8423 non-null   int64          \n",
      " 17  ref_consumption                 8423 non-null   int64          \n",
      " 18  timestamp_weather_utc           8423 non-null   object         \n",
      " 19  wind_mph                        8423 non-null   float64        \n",
      " 20  wind_kph                        8423 non-null   float64        \n",
      " 21  wind_degree                     8423 non-null   int64          \n",
      " 22  wind_dir                        8423 non-null   object         \n",
      " 23  Frontal_Wind                    8394 non-null   float64        \n",
      " 24  Veh_deg                         8394 non-null   float64        \n",
      " 25  totalVehicles                   8314 non-null   float64        \n",
      " 26  speedAvg                        8314 non-null   float64        \n",
      " 27  cars_by_speed_interval_0_80     2513 non-null   float64        \n",
      " 28  cars_by_speed_interval_80_100   2709 non-null   float64        \n",
      " 29  cars_by_speed_interval_100_120  2899 non-null   float64        \n",
      " 30  cars_by_speed_interval_0_50     5415 non-null   float64        \n",
      " 31  cars_by_speed_interval_50_80    5415 non-null   float64        \n",
      " 32  cars_by_speed_interval_80_120   5415 non-null   float64        \n",
      " 33  cars_by_speed_interval_120_inf  8314 non-null   float64        \n",
      " 34  cars_by_length_interval_0_7     8314 non-null   float64        \n",
      " 35  cars_by_length_interval_7_inf   8314 non-null   float64        \n",
      " 36  max_speed                       8401 non-null   float64        \n",
      " 37  radius                          8314 non-null   float64        \n",
      " 38  label                           8423 non-null   object         \n",
      " 39  longitude_decoded               8423 non-null   float64        \n",
      " 40  latitude_decoded                8423 non-null   float64        \n",
      " 41  start_timestamp_td              8423 non-null   timedelta64[ns]\n",
      " 42  end_timestamp_td                8423 non-null   timedelta64[ns]\n",
      " 43  start_timestamp_sec             8423 non-null   float64        \n",
      " 44  end_timestamp_sec               8423 non-null   float64        \n",
      "dtypes: float64(26), int64(6), object(11), timedelta64[ns](2)\n",
      "memory usage: 2.9+ MB\n"
     ]
    }
   ],
   "source": [
    "df.info()"
   ]
  },
  {
   "cell_type": "code",
   "execution_count": null,
   "id": "c8a201b8",
   "metadata": {},
   "outputs": [],
   "source": []
  }
 ],
 "metadata": {
  "kernelspec": {
   "display_name": "data-analysis-agent",
   "language": "python",
   "name": "python3"
  },
  "language_info": {
   "codemirror_mode": {
    "name": "ipython",
    "version": 3
   },
   "file_extension": ".py",
   "mimetype": "text/x-python",
   "name": "python",
   "nbconvert_exporter": "python",
   "pygments_lexer": "ipython3",
   "version": "3.13.5"
  }
 },
 "nbformat": 4,
 "nbformat_minor": 5
}
