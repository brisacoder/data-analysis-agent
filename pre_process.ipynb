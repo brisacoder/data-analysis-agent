{
 "cells": [
  {
   "cell_type": "code",
   "execution_count": null,
   "id": "385cdd17",
   "metadata": {},
   "outputs": [],
   "source": [
    "import os\n",
    "from pathlib import Path\n",
    "import pandas as pd\n",
    "from dotenv import load_dotenv\n",
    "from point_geom import add_lon_lat_columns\n",
    "\n",
    "load_dotenv(override=True)\n",
    "\n",
    "path = Path(os.getenv(\"DATA_FILE\"))\n",
    "df = pd.read_csv(os.getenv(\"DATA_FILE\"))\n",
    "#df_lat_long = add_lon_lat_columns(df)"
   ]
  },
  {
   "cell_type": "code",
   "execution_count": null,
   "id": "575e32a3",
   "metadata": {},
   "outputs": [],
   "source": [
    "# from dataframe_time import add_start_end_timedelta, add_start_end_seconds\n",
    "\n",
    "# df_lat_long = add_start_end_timedelta(df_lat_long, \"start_timestamp\", \"end_timestamp\")\n",
    "# df_lat_long = add_start_end_seconds(df_lat_long, \"start_timestamp\", \"end_timestamp\")"
   ]
  },
  {
   "cell_type": "code",
   "execution_count": null,
   "id": "25deb469",
   "metadata": {},
   "outputs": [],
   "source": [
    "# df_lat_long.to_csv(path.stem + \"_processed.csv\")\n",
    "# df_lat_long.to_csv('data.csv')"
   ]
  },
  {
   "cell_type": "code",
   "execution_count": null,
   "id": "5652afdf",
   "metadata": {},
   "outputs": [],
   "source": []
  }
 ],
 "metadata": {
  "kernelspec": {
   "display_name": "data-analysis-agent",
   "language": "python",
   "name": "python3"
  },
  "language_info": {
   "codemirror_mode": {
    "name": "ipython",
    "version": 3
   },
   "file_extension": ".py",
   "mimetype": "text/x-python",
   "name": "python",
   "nbconvert_exporter": "python",
   "pygments_lexer": "ipython3",
   "version": "3.13.5"
  }
 },
 "nbformat": 4,
 "nbformat_minor": 5
}
